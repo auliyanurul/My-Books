{
 "cells": [
  {
   "cell_type": "markdown",
   "metadata": {},
   "source": [
    "# Kunci Jawaban Project Latihan Chapter 7\n",
    "[Buku Konsep dan Implementasi Python: Kasus Big Data](http://blog.rosihanari.net/my-book-konsep-dan-implementasi-python-di-kasus-big-data/) \n",
    "\n",
    "**Disusun oleh**: [Rosihan Ari Yuana](http://rosihanari.net)\n",
    "\n",
    "<img src=\"http://blog.rosihanari.net/wp-content/uploads/2019/11/Clipboard03.png\" align=\"left\">"
   ]
  },
  {
   "cell_type": "markdown",
   "metadata": {},
   "source": [
    "## No. 1"
   ]
  },
  {
   "cell_type": "code",
   "execution_count": 4,
   "metadata": {},
   "outputs": [
    {
     "name": "stdout",
     "output_type": "stream",
     "text": [
      "-------------------\n",
      "Menu:\n",
      "1. Tambah data sayur\n",
      "2. Hapus data sayur\n",
      "3. Tampilkan data sayur\n",
      "4. Keluar\n",
      "Pilihan Anda: 3\n",
      "-------------------\n",
      "bayam\n",
      "kangkung\n",
      "wortel\n",
      "salada\n",
      "-------------------\n",
      "Menu:\n",
      "1. Tambah data sayur\n",
      "2. Hapus data sayur\n",
      "3. Tampilkan data sayur\n",
      "4. Keluar\n",
      "Pilihan Anda: 4\n",
      "-------------------\n"
     ]
    }
   ],
   "source": [
    "# list data sayur awal\n",
    "dataSayur = ['bayam', 'kangkung', 'wortel', 'salada']\n",
    "\n",
    "# looping untuk menjalankan pengolahan data sayut\n",
    "while True:\n",
    "    # tampilkan menu pilihan\n",
    "    print(\"-------------------\")\n",
    "    print(\"Menu:\")\n",
    "    print(\"1. Tambah data sayur\")\n",
    "    print(\"2. Hapus data sayur\")\n",
    "    print(\"3. Tampilkan data sayur\")\n",
    "    print(\"4. Keluar\")\n",
    "    \n",
    "    # baca data input pilihan menu\n",
    "    pilih = int(input(\"Pilihan Anda: \"))\n",
    "    print(\"-------------------\")\n",
    "    \n",
    "    # jika yang dipilih menu no 1\n",
    "    if pilih == 1:\n",
    "        # input nama sayur yg akan ditambahkan\n",
    "        namaSayur = input(\"Masukkan nama sayur: \")\n",
    "        \n",
    "        # sebelum menambahkan nama sayur ke list, dicek dulu ada tidaknya dalam list\n",
    "        # jika tidak ada dalam list, maka tambahkan sayur ke list\n",
    "        if namaSayur not in dataSayur:\n",
    "            # menambahkan sayur baru ke list\n",
    "            dataSayur.append(namaSayur)\n",
    "            \n",
    "    # jika yang dipilih menu no 2\n",
    "    elif pilih == 2:\n",
    "        # input nama sayur yg akan dihapus\n",
    "        namaSayur = input(\"Sayur yang mau dihapus: \")\n",
    "        \n",
    "        # sebelum dihapus, cek ada tidaknya nama sayur dalam list\n",
    "        if namaSayur in dataSayur:\n",
    "            # jika ada, maka hapus\n",
    "            dataSayur.remove(namaSayur)\n",
    "            print(namaSayur, \"telah dihapus\")\n",
    "        else:\n",
    "            # jika tidak ada, muncul pesan\n",
    "            print(namaSayur, \"tidak ada dalam data\")\n",
    "            \n",
    "    # jika yang dipilih menu no 3\n",
    "    elif pilih == 3:\n",
    "        # tampilkan setiap sayur dalam list dg loop\n",
    "        for namaSayur in dataSayur:\n",
    "            print(namaSayur)\n",
    "    # jika yang dipilih menu no 4, maka hentikan looping\n",
    "    elif pilih == 4:\n",
    "        break\n",
    "    # jika yang dipilih selain dari menu\n",
    "    else:\n",
    "        print(\"Pilihan salah\")"
   ]
  },
  {
   "cell_type": "markdown",
   "metadata": {},
   "source": [
    "## No. 3"
   ]
  },
  {
   "cell_type": "code",
   "execution_count": 21,
   "metadata": {},
   "outputs": [],
   "source": [
    "# function untuk memilih elemen ke dua dari sublist/subtuple\n",
    "def elemenKeDua(value):\n",
    "    return value[1]\n",
    "\n",
    "def sortStringByChar(listStrings):\n",
    "    # list yang nantinya berisi pasangan tuple string dan jumlah karakternya\n",
    "    listNumChars = []\n",
    "    \n",
    "    # untuk setiap string dalam list\n",
    "    for string in listStrings: \n",
    "        # membuat tuple string dan jumlah karakter\n",
    "        itemTuple = (string, len(string))\n",
    "        # tambahkan tuple ke dalam listNumChars\n",
    "        listNumChars.append(itemTuple)\n",
    "    \n",
    "    # lakukan sorting desc berdasarkan elemen ke-2\n",
    "    listNumChars.sort(key=elemenKeDua, reverse=True)\n",
    "    \n",
    "    # proses mengambil elemen pertama hasil sorting (string) untuk dimasukkan ke list\n",
    "    sortedList = []\n",
    "    for data in listNumChars:\n",
    "        sortedList.append(data[0])\n",
    "        \n",
    "    return sortedList"
   ]
  },
  {
   "cell_type": "code",
   "execution_count": 23,
   "metadata": {},
   "outputs": [
    {
     "data": {
      "text/plain": [
       "['rambutan', 'durian', 'jeruk', 'apel']"
      ]
     },
     "execution_count": 23,
     "metadata": {},
     "output_type": "execute_result"
    }
   ],
   "source": [
    "sortStringByChar(['apel', 'rambutan', 'jeruk', 'durian'])"
   ]
  },
  {
   "cell_type": "markdown",
   "metadata": {},
   "source": [
    "## No. 5"
   ]
  },
  {
   "cell_type": "code",
   "execution_count": 26,
   "metadata": {},
   "outputs": [],
   "source": [
    "def rerataHargaBuah(dataBuah):\n",
    "    # nilai awal sum\n",
    "    sum = 0\n",
    "    # untuk setiap harga (diambil dari value databuah dictionary)\n",
    "    for harga in dataBuah.values():\n",
    "        # jumlahkan harganya\n",
    "        sum += harga\n",
    "    # hitung rerata\n",
    "    rerata = sum/len(dataBuah)\n",
    "    \n",
    "    return rerata"
   ]
  },
  {
   "cell_type": "code",
   "execution_count": 27,
   "metadata": {},
   "outputs": [
    {
     "data": {
      "text/plain": [
       "6950.0"
      ]
     },
     "execution_count": 27,
     "metadata": {},
     "output_type": "execute_result"
    }
   ],
   "source": [
    "rerataHargaBuah({'apel': 5000, 'jeruk': 8500, 'mangga': 7800, 'duku': 6500})"
   ]
  },
  {
   "cell_type": "markdown",
   "metadata": {},
   "source": [
    "## No. 7"
   ]
  },
  {
   "cell_type": "code",
   "execution_count": 28,
   "metadata": {},
   "outputs": [
    {
     "name": "stdout",
     "output_type": "stream",
     "text": [
      "Nama buah yang dibeli: apel\n",
      "Berapa Kg: 10\n",
      "Beli buah yang lain (y/n)? y\n",
      "Nama buah yang dibeli: jeruk\n",
      "Berapa Kg: 2\n",
      "Beli buah yang lain (y/n)? n\n",
      "----------------------\n",
      "Total Harga: Rp  67000\n"
     ]
    }
   ],
   "source": [
    "# dict nama buah dan harga satuan per kg\n",
    "dataBuah = {'apel': 5000, 'jeruk': 8500, 'mangga': 7800, 'duku': 6500}\n",
    "\n",
    "# nilai awal total harga pembelian\n",
    "totalHarga = 0\n",
    "\n",
    "# loop\n",
    "while True:\n",
    "    # input nama buah yg mau dibeli\n",
    "    buah = input(\"Nama buah yang dibeli: \")\n",
    "    # input banyaknya buah (kg) yg mau dibeli\n",
    "    kg = int(input(\"Berapa Kg: \"))\n",
    "    # ambil harga satuan per kilo dari dict\n",
    "    hargaPerKg = dataBuah[buah]\n",
    "    # jumlahkan harganya\n",
    "    totalHarga += kg * hargaPerKg\n",
    "    # konfirmasi\n",
    "    jwb = input(\"Beli buah yang lain (y/n)? \")\n",
    "    # jika jawabannya 'n' loop selesai\n",
    "    if jwb == 'n':\n",
    "        break\n",
    "# tampilkan total harga\n",
    "print(\"----------------------\")\n",
    "print(\"Total Harga: Rp \", totalHarga)"
   ]
  },
  {
   "cell_type": "markdown",
   "metadata": {},
   "source": [
    "## No. 9"
   ]
  },
  {
   "cell_type": "code",
   "execution_count": 34,
   "metadata": {},
   "outputs": [
    {
     "name": "stdout",
     "output_type": "stream",
     "text": [
      "-------------------\n",
      "Menu:\n",
      "1. Tambah data buah\n",
      "2. Hapus data buah\n",
      "3. Beli buah\n",
      "4. Keluar\n",
      "Pilihan Anda: 1\n",
      "-------------------\n",
      "Masukkan nama buah: ceri\n",
      "Masukkan harga satuan: 10000\n",
      "apel (Harga: Rp 5000 )\n",
      "jeruk (Harga: Rp 8500 )\n",
      "mangga (Harga: Rp 7800 )\n",
      "duku (Harga: Rp 6500 )\n",
      "ceri (Harga: Rp 10000 )\n",
      "-------------------\n",
      "Menu:\n",
      "1. Tambah data buah\n",
      "2. Hapus data buah\n",
      "3. Beli buah\n",
      "4. Keluar\n",
      "Pilihan Anda: 2\n",
      "-------------------\n",
      "Buah yang mau dihapus: ceri\n",
      "ceri telah dihapus\n",
      "apel (Harga: Rp 5000 )\n",
      "jeruk (Harga: Rp 8500 )\n",
      "mangga (Harga: Rp 7800 )\n",
      "duku (Harga: Rp 6500 )\n",
      "-------------------\n",
      "Menu:\n",
      "1. Tambah data buah\n",
      "2. Hapus data buah\n",
      "3. Beli buah\n",
      "4. Keluar\n",
      "Pilihan Anda: 3\n",
      "-------------------\n",
      "Nama buah yang dibeli: apel\n",
      "Berapa Kg: 10\n",
      "Beli buah yang lain (y/n)? y\n",
      "Nama buah yang dibeli: jeruk\n",
      "Berapa Kg: 10\n",
      "Beli buah yang lain (y/n)? n\n",
      "----------------------\n",
      "Total Harga: Rp  135000\n",
      "-------------------\n",
      "Menu:\n",
      "1. Tambah data buah\n",
      "2. Hapus data buah\n",
      "3. Beli buah\n",
      "4. Keluar\n",
      "Pilihan Anda: 4\n",
      "-------------------\n"
     ]
    }
   ],
   "source": [
    "# dict nama buah dan harga satuan per kg\n",
    "dataBuah = {'apel': 5000, 'jeruk': 8500, 'mangga': 7800, 'duku': 6500}\n",
    "\n",
    "# looping untuk menjalankan pengolahan data sayut\n",
    "while True:\n",
    "    # tampilkan menu pilihan\n",
    "    print(\"-------------------\")\n",
    "    print(\"Menu:\")\n",
    "    print(\"1. Tambah data buah\")\n",
    "    print(\"2. Hapus data buah\")\n",
    "    print(\"3. Beli buah\")\n",
    "    print(\"4. Keluar\")\n",
    "    \n",
    "    # baca data input pilihan menu\n",
    "    pilih = int(input(\"Pilihan Anda: \"))\n",
    "    print(\"-------------------\")\n",
    "    \n",
    "    # jika yang dipilih menu no 1\n",
    "    if pilih == 1:\n",
    "        # input nama buah yg akan ditambahkan\n",
    "        namaBuah = input(\"Masukkan nama buah: \")\n",
    "        # inputharga buah yg akan ditambahkan\n",
    "        harga = int(input(\"Masukkan harga satuan: \"))\n",
    "        \n",
    "        # sebelum menambahkan data buah ke dict, dicek dulu ada tidaknya dalam dict\n",
    "        # jika tidak ada dalam dict, maka tambahkan data buah ke dict\n",
    "        if namaBuah not in dataBuah:\n",
    "            # menambahkan data buah baru ke dict\n",
    "            dataBuah[namaBuah] = harga\n",
    "            # menampilkan data buah\n",
    "            for buah in dataBuah:\n",
    "                print(buah, \"(Harga: Rp\", dataBuah[buah],\")\")\n",
    "            \n",
    "    # jika yang dipilih menu no 2\n",
    "    elif pilih == 2:\n",
    "        # input nama buah yg akan dihapus\n",
    "        namaBuah = input(\"Buah yang mau dihapus: \")\n",
    "        \n",
    "        # sebelum dihapus, cek ada tidaknya nama sayur dalam dict\n",
    "        if namaBuah in dataBuah:\n",
    "            # jika ada, maka hapus\n",
    "            del dataBuah[namaBuah]\n",
    "            print(namaBuah, \"telah dihapus\")\n",
    "            \n",
    "            # menampilkan data buah\n",
    "            for buah in dataBuah:\n",
    "                print(buah, \"(Harga: Rp\", dataBuah[buah],\")\")\n",
    "        else:\n",
    "            # jika tidak ada, muncul pesan\n",
    "            print(namaBuah, \"tidak ada dalam data\")\n",
    "            \n",
    "    # jika yang dipilih menu no 3\n",
    "    elif pilih == 3:\n",
    "        \n",
    "        # nilai awal total harga pembelian\n",
    "        totalHarga = 0\n",
    "\n",
    "        # loop\n",
    "        while True:\n",
    "            # input nama buah yg mau dibeli\n",
    "            buah = input(\"Nama buah yang dibeli: \")\n",
    "            # input banyaknya buah (kg) yg mau dibeli\n",
    "            kg = int(input(\"Berapa Kg: \"))\n",
    "            # ambil harga satuan per kilo dari dict\n",
    "            hargaPerKg = dataBuah[buah]\n",
    "            # jumlahkan harganya\n",
    "            totalHarga += kg * hargaPerKg\n",
    "            # konfirmasi\n",
    "            jwb = input(\"Beli buah yang lain (y/n)? \")\n",
    "            # jika jawabannya 'n' loop selesai\n",
    "            if jwb == 'n':\n",
    "                break\n",
    "        # tampilkan total harga\n",
    "        print(\"-------------------\")\n",
    "        print(\"Total Harga: Rp \", totalHarga)\n",
    "        \n",
    "    # jika yang dipilih menu no 4, maka hentikan looping\n",
    "    elif pilih == 4:\n",
    "        break\n",
    "    # jika yang dipilih selain dari menu\n",
    "    else:\n",
    "        print(\"Pilihan salah\")"
   ]
  },
  {
   "cell_type": "code",
   "execution_count": 33,
   "metadata": {},
   "outputs": [
    {
     "data": {
      "text/plain": [
       "False"
      ]
     },
     "execution_count": 33,
     "metadata": {},
     "output_type": "execute_result"
    }
   ],
   "source": [
    "'mangga' not in dataBuah"
   ]
  }
 ],
 "metadata": {
  "kernelspec": {
   "display_name": "Python 3",
   "language": "python",
   "name": "python3"
  },
  "language_info": {
   "codemirror_mode": {
    "name": "ipython",
    "version": 3
   },
   "file_extension": ".py",
   "mimetype": "text/x-python",
   "name": "python",
   "nbconvert_exporter": "python",
   "pygments_lexer": "ipython3",
   "version": "3.7.0"
  }
 },
 "nbformat": 4,
 "nbformat_minor": 2
}
