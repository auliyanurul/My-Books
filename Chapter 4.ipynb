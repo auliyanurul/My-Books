{
 "cells": [
  {
   "attachments": {},
   "cell_type": "markdown",
   "metadata": {},
   "source": [
    "# Kunci Jawaban Project Latihan Chapter 4\n",
    "[Buku Konsep dan Implementasi Python: Kasus Big Data](http://blog.rosihanari.net/my-book-konsep-dan-implementasi-python-di-kasus-big-data/) \n",
    "\n",
    "**Disusun oleh**: [Rosihan Ari Yuana](http://rosihanari.net)\n",
    "\n",
    "<img src=\"http://blog.rosihanari.net/wp-content/uploads/2019/11/Clipboard03.png\" align=\"left\">"
   ]
  },
  {
   "cell_type": "markdown",
   "metadata": {},
   "source": [
    "## No. 1"
   ]
  },
  {
   "cell_type": "code",
   "execution_count": 3,
   "metadata": {},
   "outputs": [
    {
     "name": "stdout",
     "output_type": "stream",
     "text": [
      "Jumlah keramik yg diperlukan: 107 buah\n"
     ]
    }
   ],
   "source": [
    "import math\n",
    "\n",
    "# jumlah kamar tidur\n",
    "n = 4\n",
    "# luas per kamar (dlm cm)\n",
    "lKamar = 400 * 400\n",
    "# luas total kamar\n",
    "lKamarTotal = n * lKamar\n",
    "# luas sebuah keramik\n",
    "lKeramik = 30 * 40\n",
    "# jumlah keramik yg diperlukan\n",
    "nKeramik = lKamarTotal / lKeramik\n",
    "# jumlah boks keramik yg diperlukan\n",
    "nBoks = nKeramik / 5\n",
    "print(\"Jumlah keramik yg diperlukan:\", math.ceil(nBoks),\"buah\")"
   ]
  },
  {
   "cell_type": "markdown",
   "metadata": {},
   "source": [
    "Tambahan Keterangan: <br>\n",
    "- perintah **math.ceil()** digunakan untuk membulatkan ke atas bilangan riil\n",
    "- perintah **math.floor()** digunakan untuk membulatkan ke bawah bilangan riil\n"
   ]
  },
  {
   "cell_type": "markdown",
   "metadata": {},
   "source": [
    "## No. 3"
   ]
  },
  {
   "cell_type": "code",
   "execution_count": 4,
   "metadata": {},
   "outputs": [
    {
     "name": "stdout",
     "output_type": "stream",
     "text": [
      "Total biaya untuk pembelian keramik adalah: Rp 14750000\n"
     ]
    }
   ],
   "source": [
    "# jumlah keramik total (include cadangan)\n",
    "nKeramikTotal = nKeramik + 0.1 * nKeramik\n",
    "# jumlah boks keramik yg diperlukan\n",
    "nBoksTotal = math.ceil(nKeramikTotal / 5)\n",
    "# total harga keramik\n",
    "totalHarga = nBoksTotal * 125000\n",
    "print(\"Total biaya untuk pembelian keramik adalah: Rp\", totalHarga)"
   ]
  },
  {
   "cell_type": "markdown",
   "metadata": {},
   "source": [
    "## No. 5"
   ]
  },
  {
   "cell_type": "code",
   "execution_count": 5,
   "metadata": {},
   "outputs": [
    {
     "name": "stdout",
     "output_type": "stream",
     "text": [
      "Masukkan jari-jari lingkaran: 10\n",
      "Luas lingkaran: 314.0 satuan luas\n"
     ]
    }
   ],
   "source": [
    "# input jari-jari lingkaran\n",
    "r = float(input(\"Masukkan jari-jari lingkaran: \"))\n",
    "# hitung luas lingkaran\n",
    "luas = 3.14 * r ** 2\n",
    "print(\"Luas lingkaran:\", luas, \"satuan luas\")"
   ]
  },
  {
   "cell_type": "markdown",
   "metadata": {},
   "source": [
    "## No. 7"
   ]
  },
  {
   "cell_type": "code",
   "execution_count": 6,
   "metadata": {},
   "outputs": [
    {
     "name": "stdout",
     "output_type": "stream",
     "text": [
      "Banyaknya buah strawberry (Kg): 2\n",
      "Banyaknya buah jeruk (Kg): 0\n",
      "Banyaknya buah anggur (Kg): 3\n",
      "Banyaknya buah apel (Kg): 2\n",
      "Banyaknya buah semangka (Kg): 1\n",
      "Total harganya: Rp 283000\n"
     ]
    }
   ],
   "source": [
    "# setting harga per Kg setiap buah\n",
    "hargaStrawberry = 30000\n",
    "hargaJeruk = 15000\n",
    "hargaAnggur = 42000\n",
    "hargaApel = 38000\n",
    "hargaSemangka = 21000\n",
    "\n",
    "# input jumlah Kg setiap buah\n",
    "qtyStrawberry = int(input(\"Banyaknya buah strawberry (Kg): \"))\n",
    "qtyJeruk = int(input(\"Banyaknya buah jeruk (Kg): \"))\n",
    "qtyAnggur = int(input(\"Banyaknya buah anggur (Kg): \"))\n",
    "qtyApel = int(input(\"Banyaknya buah apel (Kg): \"))\n",
    "qtySemangka = int(input(\"Banyaknya buah semangka (Kg): \"))\n",
    "\n",
    "# hitung total harga\n",
    "total = hargaStrawberry * qtyStrawberry + hargaJeruk * qtyJeruk + hargaAnggur * qtyAnggur + hargaApel * qtyApel + hargaSemangka * qtySemangka\n",
    "\n",
    "print(\"Total harganya: Rp\", total)"
   ]
  },
  {
   "cell_type": "markdown",
   "metadata": {},
   "source": [
    "## No. 9"
   ]
  },
  {
   "cell_type": "code",
   "execution_count": 8,
   "metadata": {},
   "outputs": [
    {
     "name": "stdout",
     "output_type": "stream",
     "text": [
      "Masukkan total harga (Rp): 99999\n",
      "Total harga nett: Rp 99000\n"
     ]
    }
   ],
   "source": [
    "# input total harga\n",
    "totalHarga = int(input(\"Masukkan total harga (Rp): \"))\n",
    "# mencari hasil totalHarga modulo 1000\n",
    "modulo = totalHarga % 1000\n",
    "# harga nett pembulatan ke bawah \n",
    "hargaNett = totalHarga - modulo\n",
    "print(\"Total harga nett: Rp\", hargaNett)"
   ]
  }
 ],
 "metadata": {
  "kernelspec": {
   "display_name": "Python 3",
   "language": "python",
   "name": "python3"
  },
  "language_info": {
   "codemirror_mode": {
    "name": "ipython",
    "version": 3
   },
   "file_extension": ".py",
   "mimetype": "text/x-python",
   "name": "python",
   "nbconvert_exporter": "python",
   "pygments_lexer": "ipython3",
   "version": "3.7.0"
  }
 },
 "nbformat": 4,
 "nbformat_minor": 2
}
