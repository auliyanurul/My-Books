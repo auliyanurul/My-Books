{
 "cells": [
  {
   "cell_type": "markdown",
   "metadata": {},
   "source": [
    "# Kunci Jawaban Project Latihan Chapter 6\n",
    "[Buku Konsep dan Implementasi Python: Kasus Big Data](http://blog.rosihanari.net/my-book-konsep-dan-implementasi-python-di-kasus-big-data/) \n",
    "\n",
    "**Disusun oleh**: [Rosihan Ari Yuana](http://rosihanari.net)\n",
    "\n",
    "<img src=\"http://blog.rosihanari.net/wp-content/uploads/2019/11/Clipboard03.png\" align=\"left\">"
   ]
  },
  {
   "cell_type": "markdown",
   "metadata": {},
   "source": [
    "## No. 1"
   ]
  },
  {
   "cell_type": "markdown",
   "metadata": {},
   "source": [
    "### Alternatif 1"
   ]
  },
  {
   "cell_type": "code",
   "execution_count": null,
   "metadata": {},
   "outputs": [],
   "source": [
    "def max(a, b, c):\n",
    "    if a > b:\n",
    "        if a > c:\n",
    "            maks = a\n",
    "    else:\n",
    "        if b > c:\n",
    "            maks = b\n",
    "        else:\n",
    "            maks = c \n",
    "    return maks"
   ]
  },
  {
   "cell_type": "code",
   "execution_count": 1,
   "metadata": {},
   "outputs": [
    {
     "data": {
      "text/plain": [
       "10"
      ]
     },
     "execution_count": 1,
     "metadata": {},
     "output_type": "execute_result"
    }
   ],
   "source": [
    "max(10, 9, 7)"
   ]
  },
  {
   "cell_type": "code",
   "execution_count": 3,
   "metadata": {},
   "outputs": [
    {
     "data": {
      "text/plain": [
       "10"
      ]
     },
     "execution_count": 3,
     "metadata": {},
     "output_type": "execute_result"
    }
   ],
   "source": [
    "max(9, 7, 10)"
   ]
  },
  {
   "cell_type": "code",
   "execution_count": 2,
   "metadata": {},
   "outputs": [
    {
     "data": {
      "text/plain": [
       "10"
      ]
     },
     "execution_count": 2,
     "metadata": {},
     "output_type": "execute_result"
    }
   ],
   "source": [
    "max(9, 10, 7)"
   ]
  },
  {
   "cell_type": "markdown",
   "metadata": {},
   "source": [
    "### Alternatif 2"
   ]
  },
  {
   "cell_type": "code",
   "execution_count": 4,
   "metadata": {},
   "outputs": [],
   "source": [
    "def max(a, b, c):\n",
    "    if (a > b) and (a > c):\n",
    "        maks = a\n",
    "    else:\n",
    "        if (b > a) and (b > c):\n",
    "            maks = b\n",
    "        else:\n",
    "            maks = c \n",
    "    return maks"
   ]
  },
  {
   "cell_type": "markdown",
   "metadata": {},
   "source": [
    "## No. 3"
   ]
  },
  {
   "cell_type": "code",
   "execution_count": 5,
   "metadata": {},
   "outputs": [],
   "source": [
    "def starFormationA(n):\n",
    "    for i in range(1, n+1):\n",
    "        print(\"*\" * i)"
   ]
  },
  {
   "cell_type": "code",
   "execution_count": 30,
   "metadata": {},
   "outputs": [
    {
     "name": "stdout",
     "output_type": "stream",
     "text": [
      "*\n",
      "**\n",
      "***\n",
      "****\n"
     ]
    }
   ],
   "source": [
    "starFormationA(4)"
   ]
  },
  {
   "cell_type": "code",
   "execution_count": 14,
   "metadata": {},
   "outputs": [],
   "source": [
    "def starFormationB(n):\n",
    "    for i in range(1, n+1):\n",
    "        print(\"*\" * (n+1-i))"
   ]
  },
  {
   "cell_type": "code",
   "execution_count": 31,
   "metadata": {},
   "outputs": [
    {
     "name": "stdout",
     "output_type": "stream",
     "text": [
      "****\n",
      "***\n",
      "**\n",
      "*\n"
     ]
    }
   ],
   "source": [
    "starFormationB(4)"
   ]
  },
  {
   "cell_type": "code",
   "execution_count": 16,
   "metadata": {},
   "outputs": [],
   "source": [
    "def starFormationC(n):\n",
    "    # menggabung 2 formasi bintang menjadi satu\n",
    "    starFormationA(n//2)\n",
    "    starFormationB(n-n//2)"
   ]
  },
  {
   "cell_type": "code",
   "execution_count": 32,
   "metadata": {},
   "outputs": [
    {
     "name": "stdout",
     "output_type": "stream",
     "text": [
      "*\n",
      "**\n",
      "***\n",
      "****\n",
      "***\n",
      "**\n",
      "*\n"
     ]
    }
   ],
   "source": [
    "starFormationC(7)"
   ]
  },
  {
   "cell_type": "markdown",
   "metadata": {},
   "source": [
    "## No. 5"
   ]
  },
  {
   "cell_type": "code",
   "execution_count": 27,
   "metadata": {},
   "outputs": [],
   "source": [
    "def isPrime(x):\n",
    "    # nilai awal status (dianggap x semuanya prima)\n",
    "    status = True\n",
    "    # mencari ada tidaknya faktor antara 2 s/d x-1\n",
    "    for i in range(2, x):\n",
    "        # jika sisa hasil bagi x dengan i = 0, maka ada faktor\n",
    "        if x % i == 0:\n",
    "            # statusnya x bukan prima (mengubah status True menjadi False)\n",
    "            status = False\n",
    "            # loop selesai\n",
    "            break\n",
    "    return status"
   ]
  },
  {
   "cell_type": "code",
   "execution_count": 26,
   "metadata": {},
   "outputs": [
    {
     "data": {
      "text/plain": [
       "True"
      ]
     },
     "execution_count": 26,
     "metadata": {},
     "output_type": "execute_result"
    }
   ],
   "source": [
    "isPrime(31)"
   ]
  },
  {
   "cell_type": "code",
   "execution_count": 28,
   "metadata": {},
   "outputs": [
    {
     "data": {
      "text/plain": [
       "True"
      ]
     },
     "execution_count": 28,
     "metadata": {},
     "output_type": "execute_result"
    }
   ],
   "source": [
    "isPrime(2)"
   ]
  },
  {
   "cell_type": "code",
   "execution_count": 29,
   "metadata": {},
   "outputs": [
    {
     "data": {
      "text/plain": [
       "False"
      ]
     },
     "execution_count": 29,
     "metadata": {},
     "output_type": "execute_result"
    }
   ],
   "source": [
    "isPrime(100)"
   ]
  },
  {
   "cell_type": "markdown",
   "metadata": {},
   "source": [
    "## No. 6 dan 7"
   ]
  },
  {
   "cell_type": "code",
   "execution_count": 46,
   "metadata": {},
   "outputs": [],
   "source": [
    "# function untuk mencari jumlahan data\n",
    "def sum(*data):\n",
    "    # nilai awal jum\n",
    "    jum = 0\n",
    "    for bil in data:\n",
    "        # menjumlahkan setiap data\n",
    "        jum += bil\n",
    "    return jum"
   ]
  },
  {
   "cell_type": "code",
   "execution_count": 54,
   "metadata": {},
   "outputs": [],
   "source": [
    "# function untuk mencari rata-rata data\n",
    "def average(*data):\n",
    "    # hitung rata-rata\n",
    "    rerata = sum(*data)/len(data)\n",
    "    return rerata"
   ]
  },
  {
   "cell_type": "code",
   "execution_count": 76,
   "metadata": {},
   "outputs": [],
   "source": [
    "# function untuk mencari maksimum data\n",
    "# dg asumsi datanya bilangan positif\n",
    "def maks(*data):\n",
    "    # nilai awal maks sementara (pilih nilai awal yg kecil, misal 0)\n",
    "    max = 0\n",
    "    # cek setiap data\n",
    "    for bil in data:\n",
    "        # jika ada data yg lebih besar dari maks sementara\n",
    "        # maka update nilai maks sementara\n",
    "        if bil > max:\n",
    "            max = bil\n",
    "        else:\n",
    "            max = max\n",
    "    return max"
   ]
  },
  {
   "cell_type": "code",
   "execution_count": 77,
   "metadata": {},
   "outputs": [],
   "source": [
    "# function untuk mencari minimum data\n",
    "# dg asumsi datanya bilangan kurang dari 1000\n",
    "def min(*data):\n",
    "    # nilai awal min sementara (pilih nilai awal yg besar, misal 1000)\n",
    "    min = 1000\n",
    "    # cek setiap data\n",
    "    for bil in data:\n",
    "        # jika ada data yang lebih kecil dari min sementara\n",
    "        # maka update nilai min sementara\n",
    "        if bil < min:\n",
    "            min = bil\n",
    "        else:\n",
    "            min = min\n",
    "    return min"
   ]
  },
  {
   "cell_type": "code",
   "execution_count": 78,
   "metadata": {},
   "outputs": [
    {
     "data": {
      "text/plain": [
       "10.875"
      ]
     },
     "execution_count": 78,
     "metadata": {},
     "output_type": "execute_result"
    }
   ],
   "source": [
    "average(5, 10, 4, 9, 30, 16, 2, 11)"
   ]
  },
  {
   "cell_type": "code",
   "execution_count": 79,
   "metadata": {},
   "outputs": [
    {
     "data": {
      "text/plain": [
       "30"
      ]
     },
     "execution_count": 79,
     "metadata": {},
     "output_type": "execute_result"
    }
   ],
   "source": [
    "maks(5, 10, 4, 9, 30, 16, 2, 11)"
   ]
  },
  {
   "cell_type": "code",
   "execution_count": 80,
   "metadata": {},
   "outputs": [
    {
     "data": {
      "text/plain": [
       "2"
      ]
     },
     "execution_count": 80,
     "metadata": {},
     "output_type": "execute_result"
    }
   ],
   "source": [
    "min(5, 10, 4, 9, 30, 16, 2, 11)"
   ]
  },
  {
   "cell_type": "code",
   "execution_count": 81,
   "metadata": {},
   "outputs": [
    {
     "data": {
      "text/plain": [
       "61.22222222222222"
      ]
     },
     "execution_count": 81,
     "metadata": {},
     "output_type": "execute_result"
    }
   ],
   "source": [
    "average(81, 98, 12, 83, 45, 77, 69, 30, 56)"
   ]
  },
  {
   "cell_type": "code",
   "execution_count": 82,
   "metadata": {},
   "outputs": [
    {
     "data": {
      "text/plain": [
       "98"
      ]
     },
     "execution_count": 82,
     "metadata": {},
     "output_type": "execute_result"
    }
   ],
   "source": [
    "maks(81, 98, 12, 83, 45, 77, 69, 30, 56)"
   ]
  },
  {
   "cell_type": "code",
   "execution_count": 83,
   "metadata": {},
   "outputs": [
    {
     "data": {
      "text/plain": [
       "12"
      ]
     },
     "execution_count": 83,
     "metadata": {},
     "output_type": "execute_result"
    }
   ],
   "source": [
    "min(81, 98, 12, 83, 45, 77, 69, 30, 56)"
   ]
  },
  {
   "cell_type": "markdown",
   "metadata": {},
   "source": [
    "## No. 9"
   ]
  },
  {
   "cell_type": "code",
   "execution_count": 90,
   "metadata": {},
   "outputs": [],
   "source": [
    "# function untuk mengkonversi bil decimal ke biner\n",
    "def dec2bin(n):\n",
    "    step = n\n",
    "    # nilai awal string biner (empty string)\n",
    "    biner = \"\"\n",
    "    # selama nilai step tidak sama dengan 1, lakukan loop\n",
    "    while step != 1:\n",
    "        # hitung sisa hasil bagi step dg 2\n",
    "        sisa = step % 2\n",
    "        # hitung step berikutnya = step skrg / 2\n",
    "        step = step // 2\n",
    "        # gabung string sisa dengan string biner\n",
    "        biner = str(sisa) + biner\n",
    "    # terakhir, tambahkan 1 di depan string biner\n",
    "    biner = \"1\" + biner\n",
    "    return biner"
   ]
  },
  {
   "cell_type": "code",
   "execution_count": 91,
   "metadata": {},
   "outputs": [
    {
     "data": {
      "text/plain": [
       "'11111111'"
      ]
     },
     "execution_count": 91,
     "metadata": {},
     "output_type": "execute_result"
    }
   ],
   "source": [
    "dec2bin(255)"
   ]
  }
 ],
 "metadata": {
  "kernelspec": {
   "display_name": "Python 3",
   "language": "python",
   "name": "python3"
  },
  "language_info": {
   "codemirror_mode": {
    "name": "ipython",
    "version": 3
   },
   "file_extension": ".py",
   "mimetype": "text/x-python",
   "name": "python",
   "nbconvert_exporter": "python",
   "pygments_lexer": "ipython3",
   "version": "3.7.0"
  }
 },
 "nbformat": 4,
 "nbformat_minor": 2
}
