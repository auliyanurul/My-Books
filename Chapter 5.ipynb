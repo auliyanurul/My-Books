{
 "cells": [
  {
   "cell_type": "markdown",
   "metadata": {},
   "source": [
    "# Kunci Jawaban Project Latihan Chapter 5\n",
    "[Buku Konsep dan Implementasi Python: Kasus Big Data](http://blog.rosihanari.net/my-book-konsep-dan-implementasi-python-di-kasus-big-data/) \n",
    "\n",
    "**Disusun oleh**: [Rosihan Ari Yuana](http://rosihanari.net)\n",
    "\n",
    "<img src=\"http://blog.rosihanari.net/wp-content/uploads/2019/11/Clipboard03.png\" align=\"left\">"
   ]
  },
  {
   "cell_type": "markdown",
   "metadata": {},
   "source": [
    "## No. 1"
   ]
  },
  {
   "cell_type": "code",
   "execution_count": 1,
   "metadata": {},
   "outputs": [
    {
     "name": "stdout",
     "output_type": "stream",
     "text": [
      "Masukkan nilai Bhs. Indonesia: 50\n",
      "Masukkan nilai IPA: 80\n",
      "Masukkan nilai Matematika: 20\n",
      "Status kelulusan:  TIDAK LULUS\n"
     ]
    }
   ],
   "source": [
    "# input nilai bhs. Indonesia\n",
    "nilaiBI = int(input(\"Masukkan nilai Bhs. Indonesia: \"))\n",
    "# input nilai IPA\n",
    "nilaiIPA = int(input(\"Masukkan nilai IPA: \"))\n",
    "# input nilai Math\n",
    "nilaiMath = int(input(\"Masukkan nilai Matematika: \"))\n",
    "\n",
    "# cek validitas nilai\n",
    "if ((nilaiBI >= 0) and (nilaiBI <= 100)) and ((nilaiIPA >= 0) and (nilaiIPA <= 100)) and ((nilaiMath >= 0) and (nilaiMath <= 100)):\n",
    "    # cek syarat lulus\n",
    "    if (nilaiBI >= 60) and (nilaiIPA >= 60) and (nilaiMath > 70):\n",
    "        status = \"LULUS\"\n",
    "    else:\n",
    "        status = \"TIDAK LULUS\"\n",
    "        \n",
    "    print(\"Status kelulusan: \", status)\n",
    "else:\n",
    "    print(\"Ada input yang tidak valid\")"
   ]
  },
  {
   "cell_type": "markdown",
   "metadata": {},
   "source": [
    "## No. 3"
   ]
  },
  {
   "cell_type": "code",
   "execution_count": 2,
   "metadata": {},
   "outputs": [
    {
     "name": "stdout",
     "output_type": "stream",
     "text": [
      "Masukkan kode karyawan: K002\n",
      "Masukkan nama karyawan: Rosihan Ari\n",
      "Masukkan golongan: B\n",
      "=================================\n",
      "STRUK RINCIAN GAJI KARYAWAN\n",
      "---------------------------------\n",
      "Nama Karyawan   :  Rosihan Ari (Kode: K002 )\n",
      "Golongan        :  B\n",
      "---------------------------------\n",
      "Gaji Pokok      : Rp 8500000\n",
      "Potongan ( 2 %) : Rp 170000.0\n",
      "---------------------------------\n",
      "Gaji Bersih     : Rp 8330000.0\n"
     ]
    }
   ],
   "source": [
    "# input kode karyawan\n",
    "kodeKary = input(\"Masukkan kode karyawan: \")\n",
    "# input nama karyawan\n",
    "namaKary = input(\"Masukkan nama karyawan: \")\n",
    "# input gol\n",
    "golKary = input(\"Masukkan golongan: \")\n",
    "\n",
    "# cek validasi gol\n",
    "if (golKary == \"A\") or (golKary == \"B\") or (golKary == \"C\") or (golKary == \"D\"):\n",
    "    # menentukan gaji pokok dan persen potongan berdasarkan gol\n",
    "    if golKary == \"A\":\n",
    "        gapok = 10000000\n",
    "        pot = 2.5\n",
    "    elif golKary == \"B\":\n",
    "        gapok = 8500000\n",
    "        pot = 2\n",
    "    elif golKary == \"C\":\n",
    "        gapok = 7000000\n",
    "        pot = 1.5\n",
    "    elif golKary == \"D\":\n",
    "        gapok = 5000000\n",
    "        pot = 1\n",
    "    \n",
    "    # hitung potongan\n",
    "    nilPot = pot * gapok / 100\n",
    "    \n",
    "    # hitung gaji bersih\n",
    "    gaber = gapok - nilPot\n",
    "    \n",
    "    # output\n",
    "    print(\"=================================\")\n",
    "    print(\"STRUK RINCIAN GAJI KARYAWAN\")\n",
    "    print(\"---------------------------------\")\n",
    "    print(\"Nama Karyawan   : \", namaKary, \"(Kode:\", kodeKary,\")\")\n",
    "    print(\"Golongan        : \", golKary)\n",
    "    print(\"---------------------------------\")\n",
    "    print(\"Gaji Pokok      : Rp\", gapok)\n",
    "    print(\"Potongan (\",pot,\"%) : Rp\", nilPot)\n",
    "    print(\"---------------------------------\")\n",
    "    print(\"Gaji Bersih     : Rp\", gaber)\n",
    "else:\n",
    "    print(\"Input golongan tidak valid\")"
   ]
  },
  {
   "cell_type": "markdown",
   "metadata": {},
   "source": [
    "## No. 5"
   ]
  },
  {
   "cell_type": "markdown",
   "metadata": {},
   "source": [
    "### Alternatif 1 (dengan FOR)"
   ]
  },
  {
   "cell_type": "code",
   "execution_count": 3,
   "metadata": {},
   "outputs": [
    {
     "name": "stdout",
     "output_type": "stream",
     "text": [
      "1\n",
      "3\n",
      "5\n",
      "7\n",
      "9\n",
      "11\n",
      "13\n",
      "15\n",
      "17\n",
      "19\n",
      "21\n",
      "23\n",
      "25\n",
      "27\n",
      "29\n",
      "31\n",
      "33\n",
      "35\n",
      "37\n",
      "39\n",
      "41\n",
      "43\n",
      "45\n",
      "47\n",
      "49\n",
      "51\n",
      "53\n",
      "55\n",
      "57\n",
      "59\n",
      "61\n",
      "63\n",
      "65\n",
      "67\n",
      "69\n",
      "71\n",
      "73\n",
      "75\n",
      "77\n",
      "79\n",
      "81\n",
      "83\n",
      "85\n",
      "87\n",
      "89\n",
      "91\n",
      "93\n",
      "95\n",
      "97\n",
      "99\n",
      "Banyaknya bilangan ganjil:  50\n",
      "Jumlah seluruh bilangan  :  2500\n"
     ]
    }
   ],
   "source": [
    "# nilai awal counter\n",
    "count = 0\n",
    "\n",
    "# nilai awal sum\n",
    "sum = 0\n",
    "\n",
    "# buat loop bil mulai dari 0 s/d 100 \n",
    "for bil in range(0, 101):\n",
    "    # jika bil ganjil, maka\n",
    "    if (bil % 2 == 1):\n",
    "        # count bertambah 1\n",
    "        count += 1\n",
    "        # menjumlahkan setiap bil\n",
    "        sum += bil\n",
    "        # print bil\n",
    "        print(bil)\n",
    "# output\n",
    "print(\"Banyaknya bilangan ganjil: \", count)\n",
    "print(\"Jumlah seluruh bilangan  : \", sum)"
   ]
  },
  {
   "cell_type": "markdown",
   "metadata": {},
   "source": [
    "### Alternatif 2 (dengan While)"
   ]
  },
  {
   "cell_type": "code",
   "execution_count": 4,
   "metadata": {},
   "outputs": [
    {
     "name": "stdout",
     "output_type": "stream",
     "text": [
      "1\n",
      "3\n",
      "5\n",
      "7\n",
      "9\n",
      "11\n",
      "13\n",
      "15\n",
      "17\n",
      "19\n",
      "21\n",
      "23\n",
      "25\n",
      "27\n",
      "29\n",
      "31\n",
      "33\n",
      "35\n",
      "37\n",
      "39\n",
      "41\n",
      "43\n",
      "45\n",
      "47\n",
      "49\n",
      "51\n",
      "53\n",
      "55\n",
      "57\n",
      "59\n",
      "61\n",
      "63\n",
      "65\n",
      "67\n",
      "69\n",
      "71\n",
      "73\n",
      "75\n",
      "77\n",
      "79\n",
      "81\n",
      "83\n",
      "85\n",
      "87\n",
      "89\n",
      "91\n",
      "93\n",
      "95\n",
      "97\n",
      "99\n",
      "Banyaknya bilangan ganjil:  50\n",
      "Jumlah seluruh bilangan  :  2500\n"
     ]
    }
   ],
   "source": [
    "# nilai awal counter\n",
    "count = 0\n",
    "\n",
    "# nilai awal sum\n",
    "sum = 0\n",
    "\n",
    "# nilai awal bil\n",
    "bil = 0\n",
    "\n",
    "# buat loop bil mulai dari 0 s/d 100 \n",
    "while bil <= 100:\n",
    "    # jika bil ganjil, maka\n",
    "    if (bil % 2 == 1):\n",
    "        # count bertambah 1\n",
    "        count += 1\n",
    "        # menjumlahkan setiap bil\n",
    "        sum += bil\n",
    "        # print bil\n",
    "        print(bil)\n",
    "        \n",
    "    # bil bertambah 1\n",
    "    bil += 1\n",
    "    \n",
    "# output\n",
    "print(\"Banyaknya bilangan ganjil: \", count)\n",
    "print(\"Jumlah seluruh bilangan  : \", sum)"
   ]
  },
  {
   "cell_type": "markdown",
   "metadata": {},
   "source": [
    "### No. 7"
   ]
  },
  {
   "cell_type": "code",
   "execution_count": 5,
   "metadata": {},
   "outputs": [
    {
     "name": "stdout",
     "output_type": "stream",
     "text": [
      "Hai... nama saya Mr. Lappie, saya telah memilih sebuah bilangan bulat secara acak antara 0 s/d 100. Silakan tebak ya!!!\n",
      "Tebakan Anda: 50\n",
      "Hehehe... Bilangan tebakan Anda terlalu besar\n",
      "Tebakan Anda: 30\n",
      "Hehehe... Bilangan tebakan Anda terlalu besar\n",
      "Tebakan Anda: 10\n",
      "Hehehe... Bilangan tebakan Anda terlalu kecil\n",
      "Tebakan Anda: 13\n",
      "Hehehe... Bilangan tebakan Anda terlalu kecil\n",
      "Tebakan Anda: 15\n",
      "Hehehe... Bilangan tebakan Anda terlalu kecil\n",
      "Tebakan Anda: 18\n",
      "Hehehe... Bilangan tebakan Anda terlalu kecil\n",
      "Tebakan Anda: 19\n",
      "Yeeee... Bilangan tebakan Anda BENAR :-)\n"
     ]
    }
   ],
   "source": [
    "import random\n",
    "\n",
    "# komputer memilih acak bil bulat 0 s/d 100\n",
    "bil = random.randint(0, 100)\n",
    "\n",
    "print(\"Hai... nama saya Mr. Lappie, saya telah memilih sebuah bilangan bulat secara acak antara 0 s/d 100. Silakan tebak ya!!!\")\n",
    "\n",
    "# lakukan looping\n",
    "while True:\n",
    "    # meminta user memasukkan tebakan\n",
    "    tebak = int(input(\"Tebakan Anda: \"))\n",
    "    \n",
    "    # jika tebakannya > bil\n",
    "    if tebak > bil:\n",
    "        print(\"Hehehe... Bilangan tebakan Anda terlalu besar\")\n",
    "    # jika tebakannya < bil    \n",
    "    elif tebak < bil:\n",
    "        print(\"Hehehe... Bilangan tebakan Anda terlalu kecil\")\n",
    "    # jika tebakannya = bil\n",
    "    else:\n",
    "        print(\"Yeeee... Bilangan tebakan Anda BENAR :-)\")\n",
    "        # hentikan looping\n",
    "        break"
   ]
  }
 ],
 "metadata": {
  "kernelspec": {
   "display_name": "Python 3",
   "language": "python",
   "name": "python3"
  },
  "language_info": {
   "codemirror_mode": {
    "name": "ipython",
    "version": 3
   },
   "file_extension": ".py",
   "mimetype": "text/x-python",
   "name": "python",
   "nbconvert_exporter": "python",
   "pygments_lexer": "ipython3",
   "version": "3.7.0"
  }
 },
 "nbformat": 4,
 "nbformat_minor": 2
}
